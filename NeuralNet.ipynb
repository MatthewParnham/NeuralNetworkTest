{
 "cells": [
  {
   "cell_type": "markdown",
   "metadata": {},
   "source": [
    "# Neural Network Practice/Test with MNIST dataset"
   ]
  },
  {
   "cell_type": "code",
   "execution_count": 5,
   "metadata": {},
   "outputs": [],
   "source": [
    "import tensorflow as tf\n",
    "import keras\n",
    "import numpy as np\n",
    "import matplotlib.pyplot as plt\n",
    "from keras.datasets import mnist\n",
    "from keras.models import Sequential\n",
    "from keras.layers.core import Dense\n",
    "\n",
    "np.random.seed(0)"
   ]
  },
  {
   "cell_type": "code",
   "execution_count": 2,
   "metadata": {},
   "outputs": [
    {
     "name": "stdout",
     "output_type": "stream",
     "text": [
      "Downloading data from https://s3.amazonaws.com/img-datasets/mnist.npz\n",
      "11493376/11490434 [==============================] - 10s 1us/step\n"
     ]
    },
    {
     "data": {
      "image/png": "[encoded data removed]",
      "text/plain": [
       "<Figure size 1080x720 with 9 Axes>"
      ]
     },
     "metadata": {
      "needs_background": "light"
     },
     "output_type": "display_data"
    }
   ],
   "source": [
    "(X_train, y_train), (X_test, y_test) = mnist.load_data()\n",
    "\n",
    "plt.figure(figsize=(15,10))\n",
    "for i in range(9):\n",
    "    plt.subplot(3,3,i+1)\n",
    "    plt.imshow(X_train[i], cmap='gray', interpolation='none')\n",
    "    plt.title(\"Class {}\".format(y_train[i]))"
   ]
  },
  {
   "cell_type": "code",
   "execution_count": 4,
   "metadata": {},
   "outputs": [],
   "source": [
    "num_classes = 10\n",
    "\n",
    "X_train = X_train.astype('float32').reshape(-1,784)\n",
    "X_test = X_test.astype('float32').reshape(-1,784)\n",
    "\n",
    "X_train /= 255.; X_test /= 255.\n",
    "\n",
    "y_train = keras.utils.to_categorical(y_train, num_classes)\n",
    "y_test = keras.utils.to_categorical(y_test, num_classes)"
   ]
  },
  {
   "cell_type": "code",
   "execution_count": 7,
   "metadata": {},
   "outputs": [],
   "source": [
    "# Building model\n",
    "model = Sequential()\n",
    "model.add(Dense(256, activation='relu',input_shape=(784,)))\n",
    "model.add(Dense(256, activation='relu'))\n",
    "model.add(Dense(10, activation='softmax'))\n",
    "model.compile(loss=keras.losses.categorical_crossentropy,optimizer=keras.optimizers.Adadelta(),metrics=['accuracy'])"
   ]
  },
  {
   "cell_type": "code",
   "execution_count": 11,
   "metadata": {},
   "outputs": [
    {
     "name": "stdout",
     "output_type": "stream",
     "text": [
      "Epoch 1/40\n",
      "60000/60000 [==============================] - 2s 36us/step - loss: 0.1417 - acc: 0.9582\n",
      "Epoch 2/40\n",
      "60000/60000 [==============================] - 2s 35us/step - loss: 0.1367 - acc: 0.9594\n",
      "Epoch 3/40\n",
      "60000/60000 [==============================] - 2s 35us/step - loss: 0.1326 - acc: 0.9611\n",
      "Epoch 4/40\n",
      "60000/60000 [==============================] - 2s 35us/step - loss: 0.1288 - acc: 0.9615\n",
      "Epoch 5/40\n",
      "60000/60000 [==============================] - 2s 35us/step - loss: 0.1246 - acc: 0.9631\n",
      "Epoch 6/40\n",
      "60000/60000 [==============================] - 2s 35us/step - loss: 0.1214 - acc: 0.9638\n",
      "Epoch 7/40\n",
      "60000/60000 [==============================] - 2s 35us/step - loss: 0.1179 - acc: 0.9651\n",
      "Epoch 8/40\n",
      "60000/60000 [==============================] - 2s 35us/step - loss: 0.1139 - acc: 0.9664\n",
      "Epoch 9/40\n",
      "60000/60000 [==============================] - 2s 35us/step - loss: 0.1106 - acc: 0.9680\n",
      "Epoch 10/40\n",
      "60000/60000 [==============================] - 2s 36us/step - loss: 0.1081 - acc: 0.9682\n",
      "Epoch 11/40\n",
      "60000/60000 [==============================] - 2s 36us/step - loss: 0.1048 - acc: 0.9689\n",
      "Epoch 12/40\n",
      "60000/60000 [==============================] - 2s 36us/step - loss: 0.1021 - acc: 0.9700\n",
      "Epoch 13/40\n",
      "60000/60000 [==============================] - 2s 36us/step - loss: 0.0995 - acc: 0.9708\n",
      "Epoch 14/40\n",
      "60000/60000 [==============================] - 2s 36us/step - loss: 0.0972 - acc: 0.9713\n",
      "Epoch 15/40\n",
      "60000/60000 [==============================] - 2s 36us/step - loss: 0.0947 - acc: 0.9724\n",
      "Epoch 16/40\n",
      "60000/60000 [==============================] - 2s 36us/step - loss: 0.0918 - acc: 0.9733\n",
      "Epoch 17/40\n",
      "60000/60000 [==============================] - 2s 36us/step - loss: 0.0898 - acc: 0.9733\n",
      "Epoch 18/40\n",
      "60000/60000 [==============================] - 2s 39us/step - loss: 0.0877 - acc: 0.9744\n",
      "Epoch 19/40\n",
      "60000/60000 [==============================] - 2s 38us/step - loss: 0.0862 - acc: 0.9748\n",
      "Epoch 20/40\n",
      "60000/60000 [==============================] - 2s 37us/step - loss: 0.0831 - acc: 0.9755\n",
      "Epoch 21/40\n",
      "60000/60000 [==============================] - 2s 37us/step - loss: 0.0818 - acc: 0.9763\n",
      "Epoch 22/40\n",
      "60000/60000 [==============================] - 2s 38us/step - loss: 0.0794 - acc: 0.9766\n",
      "Epoch 23/40\n",
      "60000/60000 [==============================] - 2s 38us/step - loss: 0.0783 - acc: 0.9772\n",
      "Epoch 24/40\n",
      "60000/60000 [==============================] - 2s 38us/step - loss: 0.0761 - acc: 0.9775\n",
      "Epoch 25/40\n",
      "60000/60000 [==============================] - 2s 38us/step - loss: 0.0746 - acc: 0.9783\n",
      "Epoch 26/40\n",
      "60000/60000 [==============================] - 2s 39us/step - loss: 0.0727 - acc: 0.9793\n",
      "Epoch 27/40\n",
      "60000/60000 [==============================] - 2s 38us/step - loss: 0.0715 - acc: 0.9790\n",
      "Epoch 28/40\n",
      "60000/60000 [==============================] - 2s 38us/step - loss: 0.0699 - acc: 0.9796\n",
      "Epoch 29/40\n",
      "60000/60000 [==============================] - 2s 38us/step - loss: 0.0685 - acc: 0.9797\n",
      "Epoch 30/40\n",
      "60000/60000 [==============================] - 2s 38us/step - loss: 0.0675 - acc: 0.9807\n",
      "Epoch 31/40\n",
      "60000/60000 [==============================] - 2s 38us/step - loss: 0.0655 - acc: 0.9813\n",
      "Epoch 32/40\n",
      "60000/60000 [==============================] - 2s 39us/step - loss: 0.0642 - acc: 0.9814\n",
      "Epoch 33/40\n",
      "60000/60000 [==============================] - 2s 38us/step - loss: 0.0630 - acc: 0.9820\n",
      "Epoch 34/40\n",
      "60000/60000 [==============================] - 2s 38us/step - loss: 0.0615 - acc: 0.9821\n",
      "Epoch 35/40\n",
      "60000/60000 [==============================] - 2s 38us/step - loss: 0.0608 - acc: 0.9820\n",
      "Epoch 36/40\n",
      "60000/60000 [==============================] - 2s 38us/step - loss: 0.0592 - acc: 0.9832\n",
      "Epoch 37/40\n",
      "60000/60000 [==============================] - 2s 39us/step - loss: 0.0581 - acc: 0.9832\n",
      "Epoch 38/40\n",
      "60000/60000 [==============================] - 2s 39us/step - loss: 0.0566 - acc: 0.9837\n",
      "Epoch 39/40\n",
      "60000/60000 [==============================] - 2s 38us/step - loss: 0.0559 - acc: 0.9836\n",
      "Epoch 40/40\n",
      "60000/60000 [==============================] - 2s 39us/step - loss: 0.0548 - acc: 0.9839\n"
     ]
    },
    {
     "data": {
      "text/plain": [
       "<keras.callbacks.History at 0x7f95adc8a8d0>"
      ]
     },
     "execution_count": 11,
     "metadata": {},
     "output_type": "execute_result"
    }
   ],
   "source": [
    "model.fit(X_train,y_train,\n",
    "         batch_size=128,\n",
    "         epochs=40)"
   ]
  },
  {
   "cell_type": "code",
   "execution_count": 35,
   "metadata": {},
   "outputs": [],
   "source": [
    "y_pred = model.predict(X_test)"
   ]
  },
  {
   "cell_type": "code",
   "execution_count": 36,
   "metadata": {},
   "outputs": [
    {
     "name": "stdout",
     "output_type": "stream",
     "text": [
      "Prediction: [1.5494057e-07 2.3306304e-08 2.8100790e-04 2.3499677e-04 3.0944532e-11\n",
      " 3.9283975e-08 3.7869708e-16 9.9948239e-01 5.4667487e-07 8.0397933e-07]\n",
      "Answer: [0. 0. 0. 0. 0. 0. 0. 1. 0. 0.]\n",
      "Prediction: [1.0995328e-06 9.1550965e-04 9.9704581e-01 1.9956687e-03 9.4615626e-12\n",
      " 9.0833955e-06 1.9313631e-05 2.1213755e-09 1.3513971e-05 1.4125322e-12]\n",
      "Answer: [0. 0. 1. 0. 0. 0. 0. 0. 0. 0.]\n",
      "Prediction: [3.8512730e-06 9.9188679e-01 7.3060766e-04 8.8429209e-05 6.1368285e-04\n",
      " 2.1559003e-04 1.6715819e-03 6.9860095e-04 4.0669679e-03 2.4000614e-05]\n",
      "Answer: [0. 1. 0. 0. 0. 0. 0. 0. 0. 0.]\n",
      "Prediction: [9.99104321e-01 7.88511834e-09 2.89864256e-04 8.02932573e-06\n",
      " 6.19412290e-08 1.35578175e-05 2.55326722e-05 5.46810916e-04\n",
      " 3.96917876e-08 1.17755299e-05]\n",
      "Answer: [1. 0. 0. 0. 0. 0. 0. 0. 0. 0.]\n",
      "Prediction: [5.1446960e-07 9.3587617e-11 5.7414281e-06 2.1826590e-08 9.9980539e-01\n",
      " 2.2863496e-06 1.6526274e-05 2.3421375e-05 7.7326004e-06 1.3842623e-04]\n",
      "Answer: [0. 0. 0. 0. 1. 0. 0. 0. 0. 0.]\n",
      "Prediction: [1.0465932e-07 9.9446326e-01 2.5168652e-05 1.1301186e-05 5.1635754e-04\n",
      " 5.4758073e-07 7.9144884e-06 4.8899013e-03 7.6839926e-05 8.5479287e-06]\n",
      "Answer: [0. 1. 0. 0. 0. 0. 0. 0. 0. 0.]\n",
      "Prediction: [1.4769521e-09 2.2429074e-07 2.0160732e-08 3.6431337e-07 9.9853539e-01\n",
      " 1.6455466e-04 6.7794571e-07 9.7341326e-06 1.2605496e-03 2.8513999e-05]\n",
      "Answer: [0. 0. 0. 0. 1. 0. 0. 0. 0. 0.]\n",
      "Prediction: [5.5034097e-09 5.8211645e-05 5.6003380e-05 2.2205180e-01 2.3242838e-03\n",
      " 8.1521341e-07 3.4998399e-10 2.3303691e-02 9.4282128e-05 7.5211090e-01]\n",
      "Answer: [0. 0. 0. 0. 0. 0. 0. 0. 0. 1.]\n",
      "Prediction: [6.2335311e-03 4.9567184e-06 5.5333702e-03 3.7148100e-05 2.8053831e-02\n",
      " 2.2851473e-01 6.4987260e-01 3.3313001e-05 7.6223083e-02 5.4934570e-03]\n",
      "Answer: [0. 0. 0. 0. 0. 1. 0. 0. 0. 0.]\n",
      "Prediction: [2.6713656e-07 1.1296208e-10 4.6280896e-08 1.4426565e-06 9.7771421e-02\n",
      " 2.4146129e-06 1.7579099e-10 9.9519012e-04 1.0503175e-03 9.0017885e-01]\n",
      "Answer: [0. 0. 0. 0. 0. 0. 0. 0. 0. 1.]\n",
      "Prediction: [9.99878287e-01 3.42947826e-09 1.13929585e-04 1.30002448e-07\n",
      " 3.83784714e-12 3.34642482e-06 1.96667270e-06 2.40222494e-06\n",
      " 1.08530085e-09 1.14333494e-08]\n",
      "Answer: [1. 0. 0. 0. 0. 0. 0. 0. 0. 0.]\n",
      "Prediction: [5.5608380e-05 3.4170231e-08 6.1129363e-06 5.3517720e-08 1.4417281e-04\n",
      " 2.2714361e-04 9.9810469e-01 2.9751920e-10 1.4621204e-03 1.7539811e-08]\n",
      "Answer: [0. 0. 0. 0. 0. 0. 1. 0. 0. 0.]\n",
      "Prediction: [1.2600646e-07 6.0994334e-09 1.9525496e-07 2.1504189e-04 1.0682788e-02\n",
      " 6.5155291e-05 2.3327817e-10 6.1905134e-04 1.8514659e-04 9.8823243e-01]\n",
      "Answer: [0. 0. 0. 0. 0. 0. 0. 0. 0. 1.]\n",
      "Prediction: [9.9913824e-01 8.8739405e-11 2.0044058e-04 8.8559972e-08 4.4792436e-08\n",
      " 3.1708453e-06 1.6777537e-06 6.3244178e-04 6.7943165e-07 2.3298047e-05]\n",
      "Answer: [1. 0. 0. 0. 0. 0. 0. 0. 0. 0.]\n",
      "Prediction: [1.37065748e-09 9.99695778e-01 4.01329225e-06 1.13423914e-04\n",
      " 5.87102004e-05 3.38200550e-07 2.85486453e-06 5.44205614e-05\n",
      " 5.89308220e-05 1.15889488e-05]\n",
      "Answer: [0. 1. 0. 0. 0. 0. 0. 0. 0. 0.]\n",
      "Prediction: [2.8421846e-06 1.9879332e-03 1.7435640e-06 1.2677994e-02 1.2910061e-08\n",
      " 9.8531681e-01 1.1135719e-06 9.9326854e-08 1.0252529e-05 1.2927840e-06]\n",
      "Answer: [0. 0. 0. 0. 0. 1. 0. 0. 0. 0.]\n",
      "Prediction: [3.6618992e-06 1.3224810e-11 1.0393291e-05 4.7006938e-06 2.6329681e-03\n",
      " 5.1371921e-06 4.2383657e-09 8.4051286e-04 8.5064728e-04 9.9565202e-01]\n",
      "Answer: [0. 0. 0. 0. 0. 0. 0. 0. 0. 1.]\n",
      "Prediction: [1.4055245e-06 5.0888360e-09 2.5168672e-04 3.5164598e-05 5.1176370e-13\n",
      " 2.0264176e-08 1.6126705e-15 9.9971157e-01 1.4163514e-09 6.3487640e-08]\n",
      "Answer: [0. 0. 0. 0. 0. 0. 0. 1. 0. 0.]\n",
      "Prediction: [3.4500041e-05 3.3161236e-04 4.6378439e-03 3.1647873e-01 9.8463893e-04\n",
      " 2.4197330e-05 2.2550036e-04 1.3113947e-05 6.7645150e-01 8.1842433e-04]\n",
      "Answer: [0. 0. 0. 1. 0. 0. 0. 0. 0. 0.]\n",
      "Prediction: [8.9025110e-10 1.6665772e-09 1.0627029e-08 1.0121735e-08 9.9999237e-01\n",
      " 3.6082278e-07 2.6029025e-07 2.1591841e-06 6.4587041e-08 4.7936314e-06]\n",
      "Answer: [0. 0. 0. 0. 1. 0. 0. 0. 0. 0.]\n"
     ]
    }
   ],
   "source": [
    "for i in range(20):\n",
    "    print(\"Prediction: \" + str(y_pred[i]) + \"\\nAnswer: \" + str(y_test[i]))\n",
    "\n"
   ]
  },
  {
   "cell_type": "code",
   "execution_count": null,
   "metadata": {},
   "outputs": [],
   "source": []
  }
 ],
 "metadata": {
  "kernelspec": {
   "display_name": "Python 3",
   "language": "python",
   "name": "python3"
  },
  "language_info": {
   "codemirror_mode": {
    "name": "ipython",
    "version": 3
   },
   "file_extension": ".py",
   "mimetype": "text/x-python",
   "name": "python",
   "nbconvert_exporter": "python",
   "pygments_lexer": "ipython3",
   "version": "3.6.7"
  }
 },
 "nbformat": 4,
 "nbformat_minor": 2
}
